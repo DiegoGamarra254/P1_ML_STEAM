{
 "cells": [
  {
   "cell_type": "markdown",
   "metadata": {},
   "source": [
    "# **ETL/EDA, SENTIMENT ANALYSIS** user_reviews\n",
    "\n",
    "Aquí mostramos los pasos que hemos seguido para la limpieza, tratamiento y exploración de los datos, así como también el análisis de sentimiento en los comentarios de los reviews, el resultado de este procedimiento son 3 archivos que luego son cargados y re-procesados posteriormente en la construcción de las soluciones a los problemas planteados."
   ]
  },
  {
   "cell_type": "code",
   "execution_count": 1,
   "metadata": {},
   "outputs": [],
   "source": [
    "import pandas as pd\n",
    "from IPython.display import display\n",
    "import numpy as np\n",
    "import matplotlib.pyplot as plt\n",
    "from fuzzywuzzy import fuzz"
   ]
  },
  {
   "cell_type": "markdown",
   "metadata": {},
   "source": [
    "Carga de archivo australian_user_reviews.json"
   ]
  },
  {
   "cell_type": "code",
   "execution_count": 2,
   "metadata": {},
   "outputs": [
    {
     "name": "stdout",
     "output_type": "stream",
     "text": [
      "Detected encoding: MacRoman (Confidence: 0.70)\n"
     ]
    }
   ],
   "source": [
    "# El siguiente codigo nos permite detectar encoding\n",
    "import chardet\n",
    "\n",
    "file_path = 'australian_user_reviews.json'\n",
    "\n",
    "with open(file_path, 'rb') as f:\n",
    "    result = chardet.detect(f.read())\n",
    "\n",
    "encoding = result['encoding']\n",
    "confidence = result['confidence']\n",
    "\n",
    "print(f\"Detected encoding: {encoding} (Confidence: {confidence:.2f})\")\n"
   ]
  },
  {
   "cell_type": "code",
   "execution_count": 3,
   "metadata": {},
   "outputs": [],
   "source": [
    "input_file = 'australian_user_reviews.json'\n",
    "\n",
    "# Leer el contenido del archivo JSON\n",
    "with open(input_file, 'r', encoding='MacRoman') as f:\n",
    "    data = f.read()\n",
    "\n",
    "# Convertir las líneas a registros JSON\n",
    "records = [eval(line.strip()) for line in data.split('\\n') if line.strip()]\n",
    "\n",
    "# Crear el DataFrame a partir de los registros\n",
    "dfrev = pd.DataFrame(records)"
   ]
  },
  {
   "cell_type": "code",
   "execution_count": 4,
   "metadata": {},
   "outputs": [
    {
     "data": {
      "text/html": [
       "<div>\n",
       "<style scoped>\n",
       "    .dataframe tbody tr th:only-of-type {\n",
       "        vertical-align: middle;\n",
       "    }\n",
       "\n",
       "    .dataframe tbody tr th {\n",
       "        vertical-align: top;\n",
       "    }\n",
       "\n",
       "    .dataframe thead th {\n",
       "        text-align: right;\n",
       "    }\n",
       "</style>\n",
       "<table border=\"1\" class=\"dataframe\">\n",
       "  <thead>\n",
       "    <tr style=\"text-align: right;\">\n",
       "      <th></th>\n",
       "      <th>user_id</th>\n",
       "      <th>user_url</th>\n",
       "      <th>reviews</th>\n",
       "    </tr>\n",
       "  </thead>\n",
       "  <tbody>\n",
       "    <tr>\n",
       "      <th>0</th>\n",
       "      <td>76561197970982479</td>\n",
       "      <td>http://steamcommunity.com/profiles/76561197970...</td>\n",
       "      <td>[{'funny': '', 'posted': 'Posted November 5, 2...</td>\n",
       "    </tr>\n",
       "    <tr>\n",
       "      <th>1</th>\n",
       "      <td>js41637</td>\n",
       "      <td>http://steamcommunity.com/id/js41637</td>\n",
       "      <td>[{'funny': '', 'posted': 'Posted June 24, 2014...</td>\n",
       "    </tr>\n",
       "    <tr>\n",
       "      <th>2</th>\n",
       "      <td>evcentric</td>\n",
       "      <td>http://steamcommunity.com/id/evcentric</td>\n",
       "      <td>[{'funny': '', 'posted': 'Posted February 3.',...</td>\n",
       "    </tr>\n",
       "    <tr>\n",
       "      <th>3</th>\n",
       "      <td>doctr</td>\n",
       "      <td>http://steamcommunity.com/id/doctr</td>\n",
       "      <td>[{'funny': '', 'posted': 'Posted October 14, 2...</td>\n",
       "    </tr>\n",
       "    <tr>\n",
       "      <th>4</th>\n",
       "      <td>maplemage</td>\n",
       "      <td>http://steamcommunity.com/id/maplemage</td>\n",
       "      <td>[{'funny': '3 people found this review funny',...</td>\n",
       "    </tr>\n",
       "  </tbody>\n",
       "</table>\n",
       "</div>"
      ],
      "text/plain": [
       "             user_id                                           user_url  \\\n",
       "0  76561197970982479  http://steamcommunity.com/profiles/76561197970...   \n",
       "1            js41637               http://steamcommunity.com/id/js41637   \n",
       "2          evcentric             http://steamcommunity.com/id/evcentric   \n",
       "3              doctr                 http://steamcommunity.com/id/doctr   \n",
       "4          maplemage             http://steamcommunity.com/id/maplemage   \n",
       "\n",
       "                                             reviews  \n",
       "0  [{'funny': '', 'posted': 'Posted November 5, 2...  \n",
       "1  [{'funny': '', 'posted': 'Posted June 24, 2014...  \n",
       "2  [{'funny': '', 'posted': 'Posted February 3.',...  \n",
       "3  [{'funny': '', 'posted': 'Posted October 14, 2...  \n",
       "4  [{'funny': '3 people found this review funny',...  "
      ]
     },
     "execution_count": 4,
     "metadata": {},
     "output_type": "execute_result"
    }
   ],
   "source": [
    "dfrev.head()"
   ]
  },
  {
   "cell_type": "markdown",
   "metadata": {},
   "source": [
    "Desempacamos Json anidados"
   ]
  },
  {
   "cell_type": "code",
   "execution_count": 5,
   "metadata": {},
   "outputs": [
    {
     "data": {
      "text/html": [
       "<div>\n",
       "<style scoped>\n",
       "    .dataframe tbody tr th:only-of-type {\n",
       "        vertical-align: middle;\n",
       "    }\n",
       "\n",
       "    .dataframe tbody tr th {\n",
       "        vertical-align: top;\n",
       "    }\n",
       "\n",
       "    .dataframe thead th {\n",
       "        text-align: right;\n",
       "    }\n",
       "</style>\n",
       "<table border=\"1\" class=\"dataframe\">\n",
       "  <thead>\n",
       "    <tr style=\"text-align: right;\">\n",
       "      <th></th>\n",
       "      <th>funny</th>\n",
       "      <th>posted</th>\n",
       "      <th>last_edited</th>\n",
       "      <th>item_id</th>\n",
       "      <th>helpful</th>\n",
       "      <th>recommend</th>\n",
       "      <th>review</th>\n",
       "      <th>user_id</th>\n",
       "      <th>user_url</th>\n",
       "    </tr>\n",
       "  </thead>\n",
       "  <tbody>\n",
       "    <tr>\n",
       "      <th>0</th>\n",
       "      <td></td>\n",
       "      <td>Posted November 5, 2011.</td>\n",
       "      <td></td>\n",
       "      <td>1250</td>\n",
       "      <td>No ratings yet</td>\n",
       "      <td>True</td>\n",
       "      <td>Simple yet with great replayability. In my opi...</td>\n",
       "      <td>76561197970982479</td>\n",
       "      <td>http://steamcommunity.com/profiles/76561197970...</td>\n",
       "    </tr>\n",
       "    <tr>\n",
       "      <th>1</th>\n",
       "      <td></td>\n",
       "      <td>Posted July 15, 2011.</td>\n",
       "      <td></td>\n",
       "      <td>22200</td>\n",
       "      <td>No ratings yet</td>\n",
       "      <td>True</td>\n",
       "      <td>It's unique and worth a playthrough.</td>\n",
       "      <td>76561197970982479</td>\n",
       "      <td>http://steamcommunity.com/profiles/76561197970...</td>\n",
       "    </tr>\n",
       "    <tr>\n",
       "      <th>2</th>\n",
       "      <td></td>\n",
       "      <td>Posted April 21, 2011.</td>\n",
       "      <td></td>\n",
       "      <td>43110</td>\n",
       "      <td>No ratings yet</td>\n",
       "      <td>True</td>\n",
       "      <td>Great atmosphere. The gunplay can be a bit chu...</td>\n",
       "      <td>76561197970982479</td>\n",
       "      <td>http://steamcommunity.com/profiles/76561197970...</td>\n",
       "    </tr>\n",
       "    <tr>\n",
       "      <th>3</th>\n",
       "      <td></td>\n",
       "      <td>Posted June 24, 2014.</td>\n",
       "      <td></td>\n",
       "      <td>251610</td>\n",
       "      <td>15 of 20 people (75%) found this review helpful</td>\n",
       "      <td>True</td>\n",
       "      <td>I know what you think when you see this title ...</td>\n",
       "      <td>js41637</td>\n",
       "      <td>http://steamcommunity.com/id/js41637</td>\n",
       "    </tr>\n",
       "    <tr>\n",
       "      <th>4</th>\n",
       "      <td></td>\n",
       "      <td>Posted September 8, 2013.</td>\n",
       "      <td></td>\n",
       "      <td>227300</td>\n",
       "      <td>0 of 1 people (0%) found this review helpful</td>\n",
       "      <td>True</td>\n",
       "      <td>For a simple (it's actually not all that simpl...</td>\n",
       "      <td>js41637</td>\n",
       "      <td>http://steamcommunity.com/id/js41637</td>\n",
       "    </tr>\n",
       "  </tbody>\n",
       "</table>\n",
       "</div>"
      ],
      "text/plain": [
       "  funny                     posted last_edited item_id  \\\n",
       "0         Posted November 5, 2011.                1250   \n",
       "1            Posted July 15, 2011.               22200   \n",
       "2           Posted April 21, 2011.               43110   \n",
       "3            Posted June 24, 2014.              251610   \n",
       "4        Posted September 8, 2013.              227300   \n",
       "\n",
       "                                           helpful  recommend  \\\n",
       "0                                   No ratings yet       True   \n",
       "1                                   No ratings yet       True   \n",
       "2                                   No ratings yet       True   \n",
       "3  15 of 20 people (75%) found this review helpful       True   \n",
       "4     0 of 1 people (0%) found this review helpful       True   \n",
       "\n",
       "                                              review            user_id  \\\n",
       "0  Simple yet with great replayability. In my opi...  76561197970982479   \n",
       "1               It's unique and worth a playthrough.  76561197970982479   \n",
       "2  Great atmosphere. The gunplay can be a bit chu...  76561197970982479   \n",
       "3  I know what you think when you see this title ...            js41637   \n",
       "4  For a simple (it's actually not all that simpl...            js41637   \n",
       "\n",
       "                                            user_url  \n",
       "0  http://steamcommunity.com/profiles/76561197970...  \n",
       "1  http://steamcommunity.com/profiles/76561197970...  \n",
       "2  http://steamcommunity.com/profiles/76561197970...  \n",
       "3               http://steamcommunity.com/id/js41637  \n",
       "4               http://steamcommunity.com/id/js41637  "
      ]
     },
     "execution_count": 5,
     "metadata": {},
     "output_type": "execute_result"
    }
   ],
   "source": [
    "desemp = [\n",
    "    {**review_dict, 'user_id': row['user_id'], 'user_url': row['user_url']}\n",
    "    for _, row in dfrev.iterrows()\n",
    "    for review_dict in row['reviews']\n",
    "] # desempacar reviews\n",
    "\n",
    "df_reviews = pd.DataFrame(desemp)\n",
    "df_reviews.head()"
   ]
  },
  {
   "cell_type": "markdown",
   "metadata": {},
   "source": [
    "## Limpieza de los datos."
   ]
  },
  {
   "cell_type": "markdown",
   "metadata": {},
   "source": [
    "### Exploración"
   ]
  },
  {
   "cell_type": "code",
   "execution_count": 7,
   "metadata": {},
   "outputs": [
    {
     "data": {
      "text/html": [
       "<div>\n",
       "<style scoped>\n",
       "    .dataframe tbody tr th:only-of-type {\n",
       "        vertical-align: middle;\n",
       "    }\n",
       "\n",
       "    .dataframe tbody tr th {\n",
       "        vertical-align: top;\n",
       "    }\n",
       "\n",
       "    .dataframe thead th {\n",
       "        text-align: right;\n",
       "    }\n",
       "</style>\n",
       "<table border=\"1\" class=\"dataframe\">\n",
       "  <thead>\n",
       "    <tr style=\"text-align: right;\">\n",
       "      <th></th>\n",
       "      <th>funny</th>\n",
       "      <th>posted</th>\n",
       "      <th>last_edited</th>\n",
       "      <th>item_id</th>\n",
       "      <th>helpful</th>\n",
       "      <th>recommend</th>\n",
       "      <th>review</th>\n",
       "      <th>user_id</th>\n",
       "      <th>user_url</th>\n",
       "    </tr>\n",
       "  </thead>\n",
       "  <tbody>\n",
       "    <tr>\n",
       "      <th>0</th>\n",
       "      <td></td>\n",
       "      <td>Posted November 5, 2011.</td>\n",
       "      <td></td>\n",
       "      <td>1250</td>\n",
       "      <td>No ratings yet</td>\n",
       "      <td>True</td>\n",
       "      <td>Simple yet with great replayability. In my opi...</td>\n",
       "      <td>76561197970982479</td>\n",
       "      <td>http://steamcommunity.com/profiles/76561197970...</td>\n",
       "    </tr>\n",
       "    <tr>\n",
       "      <th>1</th>\n",
       "      <td></td>\n",
       "      <td>Posted July 15, 2011.</td>\n",
       "      <td></td>\n",
       "      <td>22200</td>\n",
       "      <td>No ratings yet</td>\n",
       "      <td>True</td>\n",
       "      <td>It's unique and worth a playthrough.</td>\n",
       "      <td>76561197970982479</td>\n",
       "      <td>http://steamcommunity.com/profiles/76561197970...</td>\n",
       "    </tr>\n",
       "    <tr>\n",
       "      <th>2</th>\n",
       "      <td></td>\n",
       "      <td>Posted April 21, 2011.</td>\n",
       "      <td></td>\n",
       "      <td>43110</td>\n",
       "      <td>No ratings yet</td>\n",
       "      <td>True</td>\n",
       "      <td>Great atmosphere. The gunplay can be a bit chu...</td>\n",
       "      <td>76561197970982479</td>\n",
       "      <td>http://steamcommunity.com/profiles/76561197970...</td>\n",
       "    </tr>\n",
       "    <tr>\n",
       "      <th>3</th>\n",
       "      <td></td>\n",
       "      <td>Posted June 24, 2014.</td>\n",
       "      <td></td>\n",
       "      <td>251610</td>\n",
       "      <td>15 of 20 people (75%) found this review helpful</td>\n",
       "      <td>True</td>\n",
       "      <td>I know what you think when you see this title ...</td>\n",
       "      <td>js41637</td>\n",
       "      <td>http://steamcommunity.com/id/js41637</td>\n",
       "    </tr>\n",
       "    <tr>\n",
       "      <th>4</th>\n",
       "      <td></td>\n",
       "      <td>Posted September 8, 2013.</td>\n",
       "      <td></td>\n",
       "      <td>227300</td>\n",
       "      <td>0 of 1 people (0%) found this review helpful</td>\n",
       "      <td>True</td>\n",
       "      <td>For a simple (it's actually not all that simpl...</td>\n",
       "      <td>js41637</td>\n",
       "      <td>http://steamcommunity.com/id/js41637</td>\n",
       "    </tr>\n",
       "  </tbody>\n",
       "</table>\n",
       "</div>"
      ],
      "text/plain": [
       "  funny                     posted last_edited item_id  \\\n",
       "0         Posted November 5, 2011.                1250   \n",
       "1            Posted July 15, 2011.               22200   \n",
       "2           Posted April 21, 2011.               43110   \n",
       "3            Posted June 24, 2014.              251610   \n",
       "4        Posted September 8, 2013.              227300   \n",
       "\n",
       "                                           helpful  recommend  \\\n",
       "0                                   No ratings yet       True   \n",
       "1                                   No ratings yet       True   \n",
       "2                                   No ratings yet       True   \n",
       "3  15 of 20 people (75%) found this review helpful       True   \n",
       "4     0 of 1 people (0%) found this review helpful       True   \n",
       "\n",
       "                                              review            user_id  \\\n",
       "0  Simple yet with great replayability. In my opi...  76561197970982479   \n",
       "1               It's unique and worth a playthrough.  76561197970982479   \n",
       "2  Great atmosphere. The gunplay can be a bit chu...  76561197970982479   \n",
       "3  I know what you think when you see this title ...            js41637   \n",
       "4  For a simple (it's actually not all that simpl...            js41637   \n",
       "\n",
       "                                            user_url  \n",
       "0  http://steamcommunity.com/profiles/76561197970...  \n",
       "1  http://steamcommunity.com/profiles/76561197970...  \n",
       "2  http://steamcommunity.com/profiles/76561197970...  \n",
       "3               http://steamcommunity.com/id/js41637  \n",
       "4               http://steamcommunity.com/id/js41637  "
      ]
     },
     "execution_count": 7,
     "metadata": {},
     "output_type": "execute_result"
    }
   ],
   "source": [
    "df_reviews.head()"
   ]
  },
  {
   "cell_type": "markdown",
   "metadata": {},
   "source": [
    "Manipulamos los datos con el propósito de observar anomalías, al ordenar los datos observamos lo siguiente:\n",
    "- Columna posted contiene datos sin año\n",
    "- Columna review tiene emojis"
   ]
  },
  {
   "cell_type": "code",
   "execution_count": 8,
   "metadata": {},
   "outputs": [
    {
     "data": {
      "text/plain": [
       "22475    üíãüíãüíãüíãüíãüíãüíãüíãüíãüíãüíãü...\n",
       "29932                                 üëåüëåüëåüëåüëå\n",
       "18562    üëåüëÄüëåüëÄüëåüëÄüëåüëÄüëåüëÄ good ...\n",
       "2087     ùñ≥ùñæùóãùóãùñ∫ùóãùóÇùñ∫ ùñªùóéùóç ...\n",
       "45777    ≈öwietna gra! Mimo, i≈º jest ciƒÖgle w fazie a...\n",
       "                               ...                        \n",
       "48176                                                     \n",
       "4616                                                      \n",
       "25300                                                     \n",
       "35990                                                     \n",
       "22910                                                     \n",
       "Name: review, Length: 59305, dtype: object"
      ]
     },
     "execution_count": 8,
     "metadata": {},
     "output_type": "execute_result"
    }
   ],
   "source": [
    "df_reviews[\"review\"].sort_values( inplace=False, ascending=False)"
   ]
  },
  {
   "cell_type": "code",
   "execution_count": 9,
   "metadata": {},
   "outputs": [
    {
     "data": {
      "text/html": [
       "<div>\n",
       "<style scoped>\n",
       "    .dataframe tbody tr th:only-of-type {\n",
       "        vertical-align: middle;\n",
       "    }\n",
       "\n",
       "    .dataframe tbody tr th {\n",
       "        vertical-align: top;\n",
       "    }\n",
       "\n",
       "    .dataframe thead th {\n",
       "        text-align: right;\n",
       "    }\n",
       "</style>\n",
       "<table border=\"1\" class=\"dataframe\">\n",
       "  <thead>\n",
       "    <tr style=\"text-align: right;\">\n",
       "      <th></th>\n",
       "      <th>funny</th>\n",
       "      <th>posted</th>\n",
       "      <th>last_edited</th>\n",
       "      <th>item_id</th>\n",
       "      <th>helpful</th>\n",
       "      <th>recommend</th>\n",
       "      <th>review</th>\n",
       "      <th>user_id</th>\n",
       "      <th>user_url</th>\n",
       "    </tr>\n",
       "  </thead>\n",
       "  <tbody>\n",
       "    <tr>\n",
       "      <th>41908</th>\n",
       "      <td>1 person found this review funny</td>\n",
       "      <td>Posted September 9.</td>\n",
       "      <td>Last edited September 9.</td>\n",
       "      <td>436520</td>\n",
       "      <td>16 of 18 people (89%) found this review helpful</td>\n",
       "      <td>True</td>\n",
       "      <td>This is a good but buggy game i can recommend ...</td>\n",
       "      <td>TheDarkSteveh</td>\n",
       "      <td>http://steamcommunity.com/id/TheDarkSteveh</td>\n",
       "    </tr>\n",
       "  </tbody>\n",
       "</table>\n",
       "</div>"
      ],
      "text/plain": [
       "                                  funny               posted  \\\n",
       "41908  1 person found this review funny  Posted September 9.   \n",
       "\n",
       "                    last_edited item_id  \\\n",
       "41908  Last edited September 9.  436520   \n",
       "\n",
       "                                               helpful  recommend  \\\n",
       "41908  16 of 18 people (89%) found this review helpful       True   \n",
       "\n",
       "                                                  review        user_id  \\\n",
       "41908  This is a good but buggy game i can recommend ...  TheDarkSteveh   \n",
       "\n",
       "                                         user_url  \n",
       "41908  http://steamcommunity.com/id/TheDarkSteveh  "
      ]
     },
     "execution_count": 9,
     "metadata": {},
     "output_type": "execute_result"
    }
   ],
   "source": [
    "df_reviews.query('index == 41908')  # hacemos una consulta para ver un dato sin año"
   ]
  },
  {
   "cell_type": "code",
   "execution_count": 10,
   "metadata": {},
   "outputs": [
    {
     "data": {
      "text/html": [
       "<div>\n",
       "<style scoped>\n",
       "    .dataframe tbody tr th:only-of-type {\n",
       "        vertical-align: middle;\n",
       "    }\n",
       "\n",
       "    .dataframe tbody tr th {\n",
       "        vertical-align: top;\n",
       "    }\n",
       "\n",
       "    .dataframe thead th {\n",
       "        text-align: right;\n",
       "    }\n",
       "</style>\n",
       "<table border=\"1\" class=\"dataframe\">\n",
       "  <thead>\n",
       "    <tr style=\"text-align: right;\">\n",
       "      <th></th>\n",
       "      <th>funny</th>\n",
       "      <th>posted</th>\n",
       "      <th>last_edited</th>\n",
       "      <th>item_id</th>\n",
       "      <th>helpful</th>\n",
       "      <th>recommend</th>\n",
       "      <th>review</th>\n",
       "      <th>user_id</th>\n",
       "      <th>user_url</th>\n",
       "    </tr>\n",
       "  </thead>\n",
       "  <tbody>\n",
       "    <tr>\n",
       "      <th>22475</th>\n",
       "      <td></td>\n",
       "      <td>Posted October 27, 2015.</td>\n",
       "      <td></td>\n",
       "      <td>730</td>\n",
       "      <td>0 of 1 people (0%) found this review helpful</td>\n",
       "      <td>True</td>\n",
       "      <td>üíãüíãüíãüíãüíãüíãüíãüíãüíãüíãüíãü...</td>\n",
       "      <td>76561198089779183</td>\n",
       "      <td>http://steamcommunity.com/profiles/76561198089...</td>\n",
       "    </tr>\n",
       "  </tbody>\n",
       "</table>\n",
       "</div>"
      ],
      "text/plain": [
       "      funny                    posted last_edited item_id  \\\n",
       "22475        Posted October 27, 2015.                 730   \n",
       "\n",
       "                                            helpful  recommend  \\\n",
       "22475  0 of 1 people (0%) found this review helpful       True   \n",
       "\n",
       "                                                  review            user_id  \\\n",
       "22475  üíãüíãüíãüíãüíãüíãüíãüíãüíãüíãüíãü...  76561198089779183   \n",
       "\n",
       "                                                user_url  \n",
       "22475  http://steamcommunity.com/profiles/76561198089...  "
      ]
     },
     "execution_count": 10,
     "metadata": {},
     "output_type": "execute_result"
    }
   ],
   "source": [
    "df_reviews.query('index == 22475')  # hacemos una consulta para ver un review con emojis"
   ]
  },
  {
   "cell_type": "markdown",
   "metadata": {},
   "source": [
    "Revisamos la información de la tabla"
   ]
  },
  {
   "cell_type": "code",
   "execution_count": 11,
   "metadata": {},
   "outputs": [
    {
     "name": "stdout",
     "output_type": "stream",
     "text": [
      "<class 'pandas.core.frame.DataFrame'>\n",
      "RangeIndex: 59305 entries, 0 to 59304\n",
      "Data columns (total 9 columns):\n",
      " #   Column       Non-Null Count  Dtype \n",
      "---  ------       --------------  ----- \n",
      " 0   funny        59305 non-null  object\n",
      " 1   posted       59305 non-null  object\n",
      " 2   last_edited  59305 non-null  object\n",
      " 3   item_id      59305 non-null  object\n",
      " 4   helpful      59305 non-null  object\n",
      " 5   recommend    59305 non-null  bool  \n",
      " 6   review       59305 non-null  object\n",
      " 7   user_id      59305 non-null  object\n",
      " 8   user_url     59305 non-null  object\n",
      "dtypes: bool(1), object(8)\n",
      "memory usage: 3.7+ MB\n"
     ]
    }
   ],
   "source": [
    "df_reviews.info()"
   ]
  },
  {
   "cell_type": "markdown",
   "metadata": {},
   "source": [
    "Conteo de nulos"
   ]
  },
  {
   "cell_type": "code",
   "execution_count": 12,
   "metadata": {},
   "outputs": [
    {
     "data": {
      "text/plain": [
       "funny          0\n",
       "posted         0\n",
       "last_edited    0\n",
       "item_id        0\n",
       "helpful        0\n",
       "recommend      0\n",
       "review         0\n",
       "user_id        0\n",
       "user_url       0\n",
       "dtype: int64"
      ]
     },
     "execution_count": 12,
     "metadata": {},
     "output_type": "execute_result"
    }
   ],
   "source": [
    "nan_counts = df_reviews.isna().sum()\n",
    "\n",
    "nan_counts\n"
   ]
  },
  {
   "cell_type": "markdown",
   "metadata": {},
   "source": [
    "Conteo de vacíos"
   ]
  },
  {
   "cell_type": "code",
   "execution_count": 13,
   "metadata": {},
   "outputs": [
    {
     "data": {
      "text/plain": [
       "funny          51154\n",
       "posted             0\n",
       "last_edited    53165\n",
       "item_id            0\n",
       "helpful            0\n",
       "recommend          0\n",
       "review            30\n",
       "user_id            0\n",
       "user_url           0\n",
       "dtype: int64"
      ]
     },
     "execution_count": 13,
     "metadata": {},
     "output_type": "execute_result"
    }
   ],
   "source": [
    "empty_counts = df_reviews.applymap(lambda x: x == '').sum()\n",
    "empty_counts"
   ]
  },
  {
   "cell_type": "markdown",
   "metadata": {},
   "source": [
    "Eliminamos la columna funny y last_edited debido a que no tienen datos"
   ]
  },
  {
   "cell_type": "code",
   "execution_count": 14,
   "metadata": {},
   "outputs": [
    {
     "data": {
      "text/html": [
       "<div>\n",
       "<style scoped>\n",
       "    .dataframe tbody tr th:only-of-type {\n",
       "        vertical-align: middle;\n",
       "    }\n",
       "\n",
       "    .dataframe tbody tr th {\n",
       "        vertical-align: top;\n",
       "    }\n",
       "\n",
       "    .dataframe thead th {\n",
       "        text-align: right;\n",
       "    }\n",
       "</style>\n",
       "<table border=\"1\" class=\"dataframe\">\n",
       "  <thead>\n",
       "    <tr style=\"text-align: right;\">\n",
       "      <th></th>\n",
       "      <th>posted</th>\n",
       "      <th>item_id</th>\n",
       "      <th>helpful</th>\n",
       "      <th>recommend</th>\n",
       "      <th>review</th>\n",
       "      <th>user_id</th>\n",
       "      <th>user_url</th>\n",
       "    </tr>\n",
       "  </thead>\n",
       "  <tbody>\n",
       "    <tr>\n",
       "      <th>0</th>\n",
       "      <td>Posted November 5, 2011.</td>\n",
       "      <td>1250</td>\n",
       "      <td>No ratings yet</td>\n",
       "      <td>True</td>\n",
       "      <td>Simple yet with great replayability. In my opi...</td>\n",
       "      <td>76561197970982479</td>\n",
       "      <td>http://steamcommunity.com/profiles/76561197970...</td>\n",
       "    </tr>\n",
       "    <tr>\n",
       "      <th>1</th>\n",
       "      <td>Posted July 15, 2011.</td>\n",
       "      <td>22200</td>\n",
       "      <td>No ratings yet</td>\n",
       "      <td>True</td>\n",
       "      <td>It's unique and worth a playthrough.</td>\n",
       "      <td>76561197970982479</td>\n",
       "      <td>http://steamcommunity.com/profiles/76561197970...</td>\n",
       "    </tr>\n",
       "    <tr>\n",
       "      <th>2</th>\n",
       "      <td>Posted April 21, 2011.</td>\n",
       "      <td>43110</td>\n",
       "      <td>No ratings yet</td>\n",
       "      <td>True</td>\n",
       "      <td>Great atmosphere. The gunplay can be a bit chu...</td>\n",
       "      <td>76561197970982479</td>\n",
       "      <td>http://steamcommunity.com/profiles/76561197970...</td>\n",
       "    </tr>\n",
       "    <tr>\n",
       "      <th>3</th>\n",
       "      <td>Posted June 24, 2014.</td>\n",
       "      <td>251610</td>\n",
       "      <td>15 of 20 people (75%) found this review helpful</td>\n",
       "      <td>True</td>\n",
       "      <td>I know what you think when you see this title ...</td>\n",
       "      <td>js41637</td>\n",
       "      <td>http://steamcommunity.com/id/js41637</td>\n",
       "    </tr>\n",
       "    <tr>\n",
       "      <th>4</th>\n",
       "      <td>Posted September 8, 2013.</td>\n",
       "      <td>227300</td>\n",
       "      <td>0 of 1 people (0%) found this review helpful</td>\n",
       "      <td>True</td>\n",
       "      <td>For a simple (it's actually not all that simpl...</td>\n",
       "      <td>js41637</td>\n",
       "      <td>http://steamcommunity.com/id/js41637</td>\n",
       "    </tr>\n",
       "  </tbody>\n",
       "</table>\n",
       "</div>"
      ],
      "text/plain": [
       "                      posted item_id  \\\n",
       "0   Posted November 5, 2011.    1250   \n",
       "1      Posted July 15, 2011.   22200   \n",
       "2     Posted April 21, 2011.   43110   \n",
       "3      Posted June 24, 2014.  251610   \n",
       "4  Posted September 8, 2013.  227300   \n",
       "\n",
       "                                           helpful  recommend  \\\n",
       "0                                   No ratings yet       True   \n",
       "1                                   No ratings yet       True   \n",
       "2                                   No ratings yet       True   \n",
       "3  15 of 20 people (75%) found this review helpful       True   \n",
       "4     0 of 1 people (0%) found this review helpful       True   \n",
       "\n",
       "                                              review            user_id  \\\n",
       "0  Simple yet with great replayability. In my opi...  76561197970982479   \n",
       "1               It's unique and worth a playthrough.  76561197970982479   \n",
       "2  Great atmosphere. The gunplay can be a bit chu...  76561197970982479   \n",
       "3  I know what you think when you see this title ...            js41637   \n",
       "4  For a simple (it's actually not all that simpl...            js41637   \n",
       "\n",
       "                                            user_url  \n",
       "0  http://steamcommunity.com/profiles/76561197970...  \n",
       "1  http://steamcommunity.com/profiles/76561197970...  \n",
       "2  http://steamcommunity.com/profiles/76561197970...  \n",
       "3               http://steamcommunity.com/id/js41637  \n",
       "4               http://steamcommunity.com/id/js41637  "
      ]
     },
     "execution_count": 14,
     "metadata": {},
     "output_type": "execute_result"
    }
   ],
   "source": [
    "df_reviews.drop(['funny', 'last_edited'], axis=1, inplace=True)\n",
    "df_reviews.head()\n"
   ]
  },
  {
   "cell_type": "code",
   "execution_count": 15,
   "metadata": {},
   "outputs": [
    {
     "name": "stdout",
     "output_type": "stream",
     "text": [
      "<class 'pandas.core.frame.DataFrame'>\n",
      "RangeIndex: 59305 entries, 0 to 59304\n",
      "Data columns (total 7 columns):\n",
      " #   Column     Non-Null Count  Dtype \n",
      "---  ------     --------------  ----- \n",
      " 0   posted     59305 non-null  object\n",
      " 1   item_id    59305 non-null  object\n",
      " 2   helpful    59305 non-null  object\n",
      " 3   recommend  59305 non-null  bool  \n",
      " 4   review     59305 non-null  object\n",
      " 5   user_id    59305 non-null  object\n",
      " 6   user_url   59305 non-null  object\n",
      "dtypes: bool(1), object(6)\n",
      "memory usage: 2.8+ MB\n"
     ]
    }
   ],
   "source": [
    "df_reviews.info()"
   ]
  },
  {
   "cell_type": "markdown",
   "metadata": {},
   "source": [
    "Eliminamos las filas duplicadas y reseteamos los índices"
   ]
  },
  {
   "cell_type": "code",
   "execution_count": 16,
   "metadata": {},
   "outputs": [],
   "source": [
    "df_reviews.drop_duplicates(inplace=True)\n",
    "df_reviews.reset_index(drop=True, inplace=True)"
   ]
  },
  {
   "cell_type": "code",
   "execution_count": 17,
   "metadata": {},
   "outputs": [
    {
     "name": "stdout",
     "output_type": "stream",
     "text": [
      "<class 'pandas.core.frame.DataFrame'>\n",
      "RangeIndex: 58431 entries, 0 to 58430\n",
      "Data columns (total 7 columns):\n",
      " #   Column     Non-Null Count  Dtype \n",
      "---  ------     --------------  ----- \n",
      " 0   posted     58431 non-null  object\n",
      " 1   item_id    58431 non-null  object\n",
      " 2   helpful    58431 non-null  object\n",
      " 3   recommend  58431 non-null  bool  \n",
      " 4   review     58431 non-null  object\n",
      " 5   user_id    58431 non-null  object\n",
      " 6   user_url   58431 non-null  object\n",
      "dtypes: bool(1), object(6)\n",
      "memory usage: 2.7+ MB\n"
     ]
    }
   ],
   "source": [
    "df_reviews.info()"
   ]
  },
  {
   "cell_type": "markdown",
   "metadata": {},
   "source": [
    "## Tratamiento de la columna 'year':"
   ]
  },
  {
   "cell_type": "markdown",
   "metadata": {},
   "source": [
    "Debido a que no necesitamos la fecha completa de la columna Posted, extraemos los años y convertimos la columna a str"
   ]
  },
  {
   "cell_type": "code",
   "execution_count": 18,
   "metadata": {},
   "outputs": [],
   "source": [
    "df_reviews['year'] = df_reviews['posted'].str.extract('(\\d{4})', expand=False)\n",
    "df_reviews['year'] = df_reviews['year'].astype('str')\n",
    "df_reviews['year']=df_reviews['year'].replace('nan', pd.NA) #al convertir los años a str tuvimos que volver a declarar los valores nulos como NaN\n"
   ]
  },
  {
   "cell_type": "code",
   "execution_count": 19,
   "metadata": {},
   "outputs": [
    {
     "data": {
      "text/plain": [
       "posted          0\n",
       "item_id         0\n",
       "helpful         0\n",
       "recommend       0\n",
       "review          0\n",
       "user_id         0\n",
       "user_url        0\n",
       "year         9933\n",
       "dtype: int64"
      ]
     },
     "execution_count": 19,
     "metadata": {},
     "output_type": "execute_result"
    }
   ],
   "source": [
    "nan_counts = df_reviews.isna().sum()\n",
    "\n",
    "nan_counts"
   ]
  },
  {
   "cell_type": "markdown",
   "metadata": {},
   "source": [
    "\n",
    "Debido a que tenemos fechas sin año, vamos a seguir la estrategia de asignar un año basado en la frecuencia de los años existentes, para esto vamos a contar la frecuencia de los años, calcular su probabilidad y usaremos esa probabilidad para asignar los años a las reseñas con valores NaN"
   ]
  },
  {
   "cell_type": "markdown",
   "metadata": {},
   "source": [
    "Generamos un pequeño dataFrame con años y su conteo"
   ]
  },
  {
   "cell_type": "code",
   "execution_count": 20,
   "metadata": {},
   "outputs": [
    {
     "data": {
      "text/html": [
       "<div>\n",
       "<style scoped>\n",
       "    .dataframe tbody tr th:only-of-type {\n",
       "        vertical-align: middle;\n",
       "    }\n",
       "\n",
       "    .dataframe tbody tr th {\n",
       "        vertical-align: top;\n",
       "    }\n",
       "\n",
       "    .dataframe thead th {\n",
       "        text-align: right;\n",
       "    }\n",
       "</style>\n",
       "<table border=\"1\" class=\"dataframe\">\n",
       "  <thead>\n",
       "    <tr style=\"text-align: right;\">\n",
       "      <th></th>\n",
       "      <th>Año</th>\n",
       "      <th>Conteo</th>\n",
       "    </tr>\n",
       "  </thead>\n",
       "  <tbody>\n",
       "    <tr>\n",
       "      <th>0</th>\n",
       "      <td>2014</td>\n",
       "      <td>21834</td>\n",
       "    </tr>\n",
       "    <tr>\n",
       "      <th>1</th>\n",
       "      <td>2015</td>\n",
       "      <td>18154</td>\n",
       "    </tr>\n",
       "    <tr>\n",
       "      <th>2</th>\n",
       "      <td>2013</td>\n",
       "      <td>6713</td>\n",
       "    </tr>\n",
       "    <tr>\n",
       "      <th>3</th>\n",
       "      <td>2012</td>\n",
       "      <td>1201</td>\n",
       "    </tr>\n",
       "    <tr>\n",
       "      <th>4</th>\n",
       "      <td>2011</td>\n",
       "      <td>530</td>\n",
       "    </tr>\n",
       "    <tr>\n",
       "      <th>5</th>\n",
       "      <td>2010</td>\n",
       "      <td>66</td>\n",
       "    </tr>\n",
       "  </tbody>\n",
       "</table>\n",
       "</div>"
      ],
      "text/plain": [
       "    Año  Conteo\n",
       "0  2014   21834\n",
       "1  2015   18154\n",
       "2  2013    6713\n",
       "3  2012    1201\n",
       "4  2011     530\n",
       "5  2010      66"
      ]
     },
     "execution_count": 20,
     "metadata": {},
     "output_type": "execute_result"
    }
   ],
   "source": [
    "conteo_series = df_reviews.year.value_counts()\n",
    "\n",
    "# Convertir la Serie a DataFrame\n",
    "df_resultado = pd.DataFrame(conteo_series.reset_index())\n",
    "df_resultado.columns = ['Año', 'Conteo']  # Renombrar las columnas si es necesario\n",
    "\n",
    "# Ordenar por el año si lo deseas\n",
    "conteo_df = df_resultado.sort_values(by='Año')\n",
    "\n",
    "# Restablecer los índices si lo deseas\n",
    "conteo_df = df_resultado.reset_index(drop=True)\n",
    "conteo_df"
   ]
  },
  {
   "cell_type": "markdown",
   "metadata": {},
   "source": [
    "Calculamos su probabilidad y asignamos los valores de años aleatorios basados en esa probabilidad"
   ]
  },
  {
   "cell_type": "code",
   "execution_count": 21,
   "metadata": {},
   "outputs": [],
   "source": [
    "# Calcular la probabilidad de cada año\n",
    "conteo_df['Probabilidad'] = conteo_df['Conteo'] / conteo_df['Conteo'].sum()\n",
    "\n",
    "# Generar un año aleatorio en función de las probabilidades\n",
    "años_posibles = conteo_df['Año'].tolist()\n",
    "probabilidades = conteo_df['Probabilidad'].tolist()\n",
    "\n",
    "# Obtener índices de las filas con años NaN\n",
    "indices_nan = df_reviews['year'].isna()\n",
    "\n",
    "# Asignar años basados en las probabilidades a las filas con años NaN\n",
    "df_reviews.loc[indices_nan, 'year'] = np.random.choice(años_posibles, size=indices_nan.sum(), p=probabilidades)"
   ]
  },
  {
   "cell_type": "markdown",
   "metadata": {},
   "source": [
    "Verificamos que ya no hay valores Nulos"
   ]
  },
  {
   "cell_type": "code",
   "execution_count": 22,
   "metadata": {},
   "outputs": [
    {
     "data": {
      "text/plain": [
       "posted       0\n",
       "item_id      0\n",
       "helpful      0\n",
       "recommend    0\n",
       "review       0\n",
       "user_id      0\n",
       "user_url     0\n",
       "year         0\n",
       "dtype: int64"
      ]
     },
     "execution_count": 22,
     "metadata": {},
     "output_type": "execute_result"
    }
   ],
   "source": [
    "nan_counts = df_reviews.isna().sum()\n",
    "\n",
    "nan_counts"
   ]
  },
  {
   "cell_type": "code",
   "execution_count": 23,
   "metadata": {},
   "outputs": [
    {
     "data": {
      "text/html": [
       "<div>\n",
       "<style scoped>\n",
       "    .dataframe tbody tr th:only-of-type {\n",
       "        vertical-align: middle;\n",
       "    }\n",
       "\n",
       "    .dataframe tbody tr th {\n",
       "        vertical-align: top;\n",
       "    }\n",
       "\n",
       "    .dataframe thead th {\n",
       "        text-align: right;\n",
       "    }\n",
       "</style>\n",
       "<table border=\"1\" class=\"dataframe\">\n",
       "  <thead>\n",
       "    <tr style=\"text-align: right;\">\n",
       "      <th></th>\n",
       "      <th>posted</th>\n",
       "      <th>item_id</th>\n",
       "      <th>helpful</th>\n",
       "      <th>recommend</th>\n",
       "      <th>review</th>\n",
       "      <th>user_id</th>\n",
       "      <th>user_url</th>\n",
       "      <th>year</th>\n",
       "    </tr>\n",
       "  </thead>\n",
       "  <tbody>\n",
       "    <tr>\n",
       "      <th>0</th>\n",
       "      <td>Posted November 5, 2011.</td>\n",
       "      <td>1250</td>\n",
       "      <td>No ratings yet</td>\n",
       "      <td>True</td>\n",
       "      <td>Simple yet with great replayability. In my opi...</td>\n",
       "      <td>76561197970982479</td>\n",
       "      <td>http://steamcommunity.com/profiles/76561197970...</td>\n",
       "      <td>2011</td>\n",
       "    </tr>\n",
       "    <tr>\n",
       "      <th>1</th>\n",
       "      <td>Posted July 15, 2011.</td>\n",
       "      <td>22200</td>\n",
       "      <td>No ratings yet</td>\n",
       "      <td>True</td>\n",
       "      <td>It's unique and worth a playthrough.</td>\n",
       "      <td>76561197970982479</td>\n",
       "      <td>http://steamcommunity.com/profiles/76561197970...</td>\n",
       "      <td>2011</td>\n",
       "    </tr>\n",
       "    <tr>\n",
       "      <th>2</th>\n",
       "      <td>Posted April 21, 2011.</td>\n",
       "      <td>43110</td>\n",
       "      <td>No ratings yet</td>\n",
       "      <td>True</td>\n",
       "      <td>Great atmosphere. The gunplay can be a bit chu...</td>\n",
       "      <td>76561197970982479</td>\n",
       "      <td>http://steamcommunity.com/profiles/76561197970...</td>\n",
       "      <td>2011</td>\n",
       "    </tr>\n",
       "    <tr>\n",
       "      <th>3</th>\n",
       "      <td>Posted June 24, 2014.</td>\n",
       "      <td>251610</td>\n",
       "      <td>15 of 20 people (75%) found this review helpful</td>\n",
       "      <td>True</td>\n",
       "      <td>I know what you think when you see this title ...</td>\n",
       "      <td>js41637</td>\n",
       "      <td>http://steamcommunity.com/id/js41637</td>\n",
       "      <td>2014</td>\n",
       "    </tr>\n",
       "    <tr>\n",
       "      <th>4</th>\n",
       "      <td>Posted September 8, 2013.</td>\n",
       "      <td>227300</td>\n",
       "      <td>0 of 1 people (0%) found this review helpful</td>\n",
       "      <td>True</td>\n",
       "      <td>For a simple (it's actually not all that simpl...</td>\n",
       "      <td>js41637</td>\n",
       "      <td>http://steamcommunity.com/id/js41637</td>\n",
       "      <td>2013</td>\n",
       "    </tr>\n",
       "  </tbody>\n",
       "</table>\n",
       "</div>"
      ],
      "text/plain": [
       "                      posted item_id  \\\n",
       "0   Posted November 5, 2011.    1250   \n",
       "1      Posted July 15, 2011.   22200   \n",
       "2     Posted April 21, 2011.   43110   \n",
       "3      Posted June 24, 2014.  251610   \n",
       "4  Posted September 8, 2013.  227300   \n",
       "\n",
       "                                           helpful  recommend  \\\n",
       "0                                   No ratings yet       True   \n",
       "1                                   No ratings yet       True   \n",
       "2                                   No ratings yet       True   \n",
       "3  15 of 20 people (75%) found this review helpful       True   \n",
       "4     0 of 1 people (0%) found this review helpful       True   \n",
       "\n",
       "                                              review            user_id  \\\n",
       "0  Simple yet with great replayability. In my opi...  76561197970982479   \n",
       "1               It's unique and worth a playthrough.  76561197970982479   \n",
       "2  Great atmosphere. The gunplay can be a bit chu...  76561197970982479   \n",
       "3  I know what you think when you see this title ...            js41637   \n",
       "4  For a simple (it's actually not all that simpl...            js41637   \n",
       "\n",
       "                                            user_url  year  \n",
       "0  http://steamcommunity.com/profiles/76561197970...  2011  \n",
       "1  http://steamcommunity.com/profiles/76561197970...  2011  \n",
       "2  http://steamcommunity.com/profiles/76561197970...  2011  \n",
       "3               http://steamcommunity.com/id/js41637  2014  \n",
       "4               http://steamcommunity.com/id/js41637  2013  "
      ]
     },
     "execution_count": 23,
     "metadata": {},
     "output_type": "execute_result"
    }
   ],
   "source": [
    "df_reviews.head()"
   ]
  },
  {
   "cell_type": "markdown",
   "metadata": {},
   "source": [
    "Como información adicional podemos apreciar que la mayor cantidad de reseñas se escribieron en los años 2014 y 2015"
   ]
  },
  {
   "cell_type": "code",
   "execution_count": 30,
   "metadata": {},
   "outputs": [
    {
     "data": {
      "image/png": "[encoded data removed]",
      "text/plain": [
       "<Figure size 1000x600 with 1 Axes>"
      ]
     },
     "metadata": {},
     "output_type": "display_data"
    }
   ],
   "source": [
    "year_counts = df_reviews['year'].value_counts().sort_index()\n",
    "\n",
    "# Crear un gráfico de barras ordenado de menor a mayor año\n",
    "plt.figure(figsize=(10, 6))\n",
    "year_counts.plot(kind='bar', color='skyblue')\n",
    "\n",
    "# Personalizar el gráfico\n",
    "plt.title('Frecuencia de Reseñas por Año')\n",
    "plt.xlabel('Año')\n",
    "plt.ylabel('Frecuencia')\n",
    "plt.xticks(rotation=45, ha='right')  # Rotar las etiquetas del eje x para mayor legibilidad\n",
    "\n",
    "# Mostrar el gráfico de barras\n",
    "plt.show()"
   ]
  },
  {
   "cell_type": "markdown",
   "metadata": {},
   "source": [
    "### SENTIMENT ANALYSIS\n",
    "En este paso desarrollaremos el analisis de sentimiento."
   ]
  },
  {
   "cell_type": "markdown",
   "metadata": {},
   "source": [
    "Como un análisis previo opcional podriamos ejecutar una detección de lenguaje en caso necesitemos realizar un análisis más complejo."
   ]
  },
  {
   "cell_type": "code",
   "execution_count": 24,
   "metadata": {},
   "outputs": [
    {
     "name": "stdout",
     "output_type": "stream",
     "text": [
      "Number of non-English comments: 13880\n"
     ]
    }
   ],
   "source": [
    "from langdetect import detect\n",
    "\n",
    "\n",
    "# Funcion de deteccion\n",
    "def detect_language(text):\n",
    "    try:\n",
    "        return detect(text)\n",
    "    except:\n",
    "        return 'unknown'\n",
    "\n",
    "# Aplicamos la funcion a la columna review\n",
    "df_reviews['language'] = df_reviews['review'].apply(detect_language)\n",
    "\n",
    "# Contabilizar comentarios en ingles\n",
    "non_english_count = len(df_reviews[df_reviews['language'] != 'en'])\n",
    "\n",
    "# Mostrar resultados\n",
    "print(\"Number of non-English comments:\", non_english_count)"
   ]
  },
  {
   "cell_type": "markdown",
   "metadata": {},
   "source": [
    "Ejecutamos el Sentiment Analysis sobre la columna review utilizando SentimentIntensityAnalyzer de NLTK"
   ]
  },
  {
   "cell_type": "code",
   "execution_count": 25,
   "metadata": {},
   "outputs": [
    {
     "name": "stderr",
     "output_type": "stream",
     "text": [
      "[nltk_data] Downloading package vader_lexicon to\n",
      "[nltk_data]     C:\\Users\\Owner\\AppData\\Roaming\\nltk_data...\n",
      "[nltk_data]   Package vader_lexicon is already up-to-date!\n"
     ]
    }
   ],
   "source": [
    "\n",
    "from nltk.sentiment.vader import SentimentIntensityAnalyzer\n",
    "import nltk\n",
    "nltk.download('vader_lexicon')\n",
    "\n",
    "# Inicializamos\n",
    "sid = SentimentIntensityAnalyzer()\n",
    "\n",
    "# Ejecutamos el analisis en la columna review y creamos la columna sent_an con los resultados\n",
    "df_reviews['sentiment_score'] = df_reviews['review'].apply(lambda x: sid.polarity_scores(x)['compound'])\n",
    "\n",
    "# Categorizamos los scores\n",
    "df_reviews['sent_an'] = df_reviews['sentiment_score'].apply(lambda x: 2 if x > 0.05 else (1 if -0.05 <= x <= 0.05 else 0))\n",
    "\n",
    "# Eliminamos la columna auxiliar\n",
    "df_reviews.drop('sentiment_score', axis=1, inplace=True)\n",
    "\n"
   ]
  },
  {
   "cell_type": "markdown",
   "metadata": {},
   "source": [
    "Visualizamos gráficamente los resultados para tener mayor entendimiento de los datos"
   ]
  },
  {
   "cell_type": "code",
   "execution_count": 29,
   "metadata": {},
   "outputs": [
    {
     "data": {
      "image/png": "[encoded data removed]",
      "text/plain": [
       "<Figure size 800x500 with 1 Axes>"
      ]
     },
     "metadata": {},
     "output_type": "display_data"
    }
   ],
   "source": [
    "df_reviews['sentiment'] = df_reviews['sent_an'].map({2: 'Bueno', 1: 'Neutral', 0: 'Malo'})\n",
    "\n",
    "# Contar la cantidad de calificaciones por categoría\n",
    "sentiment_counts = df_reviews['sentiment'].value_counts()\n",
    "\n",
    "# Crear un gráfico de barras\n",
    "plt.figure(figsize=(8, 5))\n",
    "sentiment_counts.plot(kind='bar', color=['green', 'gray', 'red'])\n",
    "\n",
    "# Personalizar el gráfico\n",
    "plt.title('Cantidad de Calificaciones por Sentimiento')\n",
    "plt.xlabel('Sentimiento')\n",
    "plt.ylabel('Cantidad')\n",
    "plt.xticks(rotation=0)  # No rotar las etiquetas del eje x\n",
    "\n",
    "# Mostrar el gráfico de barras\n",
    "plt.show()"
   ]
  },
  {
   "cell_type": "code",
   "execution_count": 26,
   "metadata": {},
   "outputs": [
    {
     "data": {
      "text/html": [
       "<div>\n",
       "<style scoped>\n",
       "    .dataframe tbody tr th:only-of-type {\n",
       "        vertical-align: middle;\n",
       "    }\n",
       "\n",
       "    .dataframe tbody tr th {\n",
       "        vertical-align: top;\n",
       "    }\n",
       "\n",
       "    .dataframe thead th {\n",
       "        text-align: right;\n",
       "    }\n",
       "</style>\n",
       "<table border=\"1\" class=\"dataframe\">\n",
       "  <thead>\n",
       "    <tr style=\"text-align: right;\">\n",
       "      <th></th>\n",
       "      <th>posted</th>\n",
       "      <th>item_id</th>\n",
       "      <th>helpful</th>\n",
       "      <th>recommend</th>\n",
       "      <th>review</th>\n",
       "      <th>user_id</th>\n",
       "      <th>user_url</th>\n",
       "      <th>year</th>\n",
       "      <th>language</th>\n",
       "      <th>sent_an</th>\n",
       "    </tr>\n",
       "  </thead>\n",
       "  <tbody>\n",
       "    <tr>\n",
       "      <th>0</th>\n",
       "      <td>Posted November 5, 2011.</td>\n",
       "      <td>1250</td>\n",
       "      <td>No ratings yet</td>\n",
       "      <td>True</td>\n",
       "      <td>Simple yet with great replayability. In my opi...</td>\n",
       "      <td>76561197970982479</td>\n",
       "      <td>http://steamcommunity.com/profiles/76561197970...</td>\n",
       "      <td>2011</td>\n",
       "      <td>en</td>\n",
       "      <td>2</td>\n",
       "    </tr>\n",
       "    <tr>\n",
       "      <th>1</th>\n",
       "      <td>Posted July 15, 2011.</td>\n",
       "      <td>22200</td>\n",
       "      <td>No ratings yet</td>\n",
       "      <td>True</td>\n",
       "      <td>It's unique and worth a playthrough.</td>\n",
       "      <td>76561197970982479</td>\n",
       "      <td>http://steamcommunity.com/profiles/76561197970...</td>\n",
       "      <td>2011</td>\n",
       "      <td>en</td>\n",
       "      <td>2</td>\n",
       "    </tr>\n",
       "    <tr>\n",
       "      <th>2</th>\n",
       "      <td>Posted April 21, 2011.</td>\n",
       "      <td>43110</td>\n",
       "      <td>No ratings yet</td>\n",
       "      <td>True</td>\n",
       "      <td>Great atmosphere. The gunplay can be a bit chu...</td>\n",
       "      <td>76561197970982479</td>\n",
       "      <td>http://steamcommunity.com/profiles/76561197970...</td>\n",
       "      <td>2011</td>\n",
       "      <td>en</td>\n",
       "      <td>2</td>\n",
       "    </tr>\n",
       "    <tr>\n",
       "      <th>3</th>\n",
       "      <td>Posted June 24, 2014.</td>\n",
       "      <td>251610</td>\n",
       "      <td>15 of 20 people (75%) found this review helpful</td>\n",
       "      <td>True</td>\n",
       "      <td>I know what you think when you see this title ...</td>\n",
       "      <td>js41637</td>\n",
       "      <td>http://steamcommunity.com/id/js41637</td>\n",
       "      <td>2014</td>\n",
       "      <td>en</td>\n",
       "      <td>2</td>\n",
       "    </tr>\n",
       "    <tr>\n",
       "      <th>4</th>\n",
       "      <td>Posted September 8, 2013.</td>\n",
       "      <td>227300</td>\n",
       "      <td>0 of 1 people (0%) found this review helpful</td>\n",
       "      <td>True</td>\n",
       "      <td>For a simple (it's actually not all that simpl...</td>\n",
       "      <td>js41637</td>\n",
       "      <td>http://steamcommunity.com/id/js41637</td>\n",
       "      <td>2013</td>\n",
       "      <td>en</td>\n",
       "      <td>2</td>\n",
       "    </tr>\n",
       "  </tbody>\n",
       "</table>\n",
       "</div>"
      ],
      "text/plain": [
       "                      posted item_id  \\\n",
       "0   Posted November 5, 2011.    1250   \n",
       "1      Posted July 15, 2011.   22200   \n",
       "2     Posted April 21, 2011.   43110   \n",
       "3      Posted June 24, 2014.  251610   \n",
       "4  Posted September 8, 2013.  227300   \n",
       "\n",
       "                                           helpful  recommend  \\\n",
       "0                                   No ratings yet       True   \n",
       "1                                   No ratings yet       True   \n",
       "2                                   No ratings yet       True   \n",
       "3  15 of 20 people (75%) found this review helpful       True   \n",
       "4     0 of 1 people (0%) found this review helpful       True   \n",
       "\n",
       "                                              review            user_id  \\\n",
       "0  Simple yet with great replayability. In my opi...  76561197970982479   \n",
       "1               It's unique and worth a playthrough.  76561197970982479   \n",
       "2  Great atmosphere. The gunplay can be a bit chu...  76561197970982479   \n",
       "3  I know what you think when you see this title ...            js41637   \n",
       "4  For a simple (it's actually not all that simpl...            js41637   \n",
       "\n",
       "                                            user_url  year language  sent_an  \n",
       "0  http://steamcommunity.com/profiles/76561197970...  2011       en        2  \n",
       "1  http://steamcommunity.com/profiles/76561197970...  2011       en        2  \n",
       "2  http://steamcommunity.com/profiles/76561197970...  2011       en        2  \n",
       "3               http://steamcommunity.com/id/js41637  2014       en        2  \n",
       "4               http://steamcommunity.com/id/js41637  2013       en        2  "
      ]
     },
     "execution_count": 26,
     "metadata": {},
     "output_type": "execute_result"
    }
   ],
   "source": [
    "df_reviews.head()"
   ]
  },
  {
   "cell_type": "code",
   "execution_count": 27,
   "metadata": {},
   "outputs": [
    {
     "name": "stdout",
     "output_type": "stream",
     "text": [
      "<class 'pandas.core.frame.DataFrame'>\n",
      "RangeIndex: 58431 entries, 0 to 58430\n",
      "Data columns (total 10 columns):\n",
      " #   Column     Non-Null Count  Dtype \n",
      "---  ------     --------------  ----- \n",
      " 0   posted     58431 non-null  object\n",
      " 1   item_id    58431 non-null  object\n",
      " 2   helpful    58431 non-null  object\n",
      " 3   recommend  58431 non-null  bool  \n",
      " 4   review     58431 non-null  object\n",
      " 5   user_id    58431 non-null  object\n",
      " 6   user_url   58431 non-null  object\n",
      " 7   year       58431 non-null  object\n",
      " 8   language   58431 non-null  object\n",
      " 9   sent_an    58431 non-null  int64 \n",
      "dtypes: bool(1), int64(1), object(8)\n",
      "memory usage: 4.1+ MB\n"
     ]
    }
   ],
   "source": [
    "df_reviews.info()"
   ]
  },
  {
   "cell_type": "markdown",
   "metadata": {},
   "source": [
    "Lo cargamos en un csv para poder utilizarlo en procesos posteriores."
   ]
  },
  {
   "cell_type": "code",
   "execution_count": 28,
   "metadata": {},
   "outputs": [],
   "source": [
    "df_reviews.to_csv('reviews90p.csv')"
   ]
  }
 ],
 "metadata": {
  "kernelspec": {
   "display_name": "Python 3",
   "language": "python",
   "name": "python3"
  },
  "language_info": {
   "codemirror_mode": {
    "name": "ipython",
    "version": 3
   },
   "file_extension": ".py",
   "mimetype": "text/x-python",
   "name": "python",
   "nbconvert_exporter": "python",
   "pygments_lexer": "ipython3",
   "version": "3.11.4"
  }
 },
 "nbformat": 4,
 "nbformat_minor": 2
}
